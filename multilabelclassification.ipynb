{
  "nbformat": 4,
  "nbformat_minor": 0,
  "metadata": {
    "colab": {
      "name": "multilabelclassification.ipynb",
      "version": "0.3.2",
      "provenance": [],
      "include_colab_link": true
    },
    "kernelspec": {
      "name": "python3",
      "display_name": "Python 3"
    },
    "accelerator": "GPU"
  },
  "cells": [
    {
      "cell_type": "markdown",
      "metadata": {
        "id": "view-in-github",
        "colab_type": "text"
      },
      "source": [
        "<a href=\"https://colab.research.google.com/github/AdityaVarmaUddaraju/tensorflow_multiclass_classification/blob/master/multilabelclassification.ipynb\" target=\"_parent\"><img src=\"https://colab.research.google.com/assets/colab-badge.svg\" alt=\"Open In Colab\"/></a>"
      ]
    },
    {
      "cell_type": "code",
      "metadata": {
        "id": "eGmg1IuM7zmk",
        "colab_type": "code",
        "colab": {
          "base_uri": "https://localhost:8080/",
          "height": 391
        },
        "outputId": "a6036a69-ae28-484d-a95b-75953f992195"
      },
      "source": [
        "!wget --no-check-certificate \\\n",
        "    https://storage.googleapis.com/laurencemoroney-blog.appspot.com/rps.zip \\\n",
        "    -O /tmp/rps.zip\n",
        "  \n",
        "!wget --no-check-certificate \\\n",
        "    https://storage.googleapis.com/laurencemoroney-blog.appspot.com/rps-test-set.zip \\\n",
        "    -O /tmp/rps-test-set.zip"
      ],
      "execution_count": 1,
      "outputs": [
        {
          "output_type": "stream",
          "text": [
            "--2019-07-27 05:38:27--  https://storage.googleapis.com/laurencemoroney-blog.appspot.com/rps.zip\n",
            "Resolving storage.googleapis.com (storage.googleapis.com)... 172.217.212.128, 2607:f8b0:4001:c07::80\n",
            "Connecting to storage.googleapis.com (storage.googleapis.com)|172.217.212.128|:443... connected.\n",
            "HTTP request sent, awaiting response... 200 OK\n",
            "Length: 200682221 (191M) [application/zip]\n",
            "Saving to: ‘/tmp/rps.zip’\n",
            "\n",
            "/tmp/rps.zip        100%[===================>] 191.38M   118MB/s    in 1.6s    \n",
            "\n",
            "2019-07-27 05:38:29 (118 MB/s) - ‘/tmp/rps.zip’ saved [200682221/200682221]\n",
            "\n",
            "--2019-07-27 05:38:30--  https://storage.googleapis.com/laurencemoroney-blog.appspot.com/rps-test-set.zip\n",
            "Resolving storage.googleapis.com (storage.googleapis.com)... 172.217.212.128, 2607:f8b0:4001:c07::80\n",
            "Connecting to storage.googleapis.com (storage.googleapis.com)|172.217.212.128|:443... connected.\n",
            "HTTP request sent, awaiting response... 200 OK\n",
            "Length: 29516758 (28M) [application/zip]\n",
            "Saving to: ‘/tmp/rps-test-set.zip’\n",
            "\n",
            "/tmp/rps-test-set.z 100%[===================>]  28.15M  90.9MB/s    in 0.3s    \n",
            "\n",
            "2019-07-27 05:38:30 (90.9 MB/s) - ‘/tmp/rps-test-set.zip’ saved [29516758/29516758]\n",
            "\n"
          ],
          "name": "stdout"
        }
      ]
    },
    {
      "cell_type": "code",
      "metadata": {
        "id": "FTQyGkbo8AEv",
        "colab_type": "code",
        "colab": {}
      },
      "source": [
        "import os\n",
        "import zipfile\n",
        "\n",
        "local_zip = '/tmp/rps.zip'\n",
        "zip_ref = zipfile.ZipFile(local_zip, 'r')\n",
        "zip_ref.extractall('/tmp/')\n",
        "zip_ref.close()\n",
        "\n",
        "local_zip = '/tmp/rps-test-set.zip'\n",
        "zip_ref = zipfile.ZipFile(local_zip, 'r')\n",
        "zip_ref.extractall('/tmp/')\n",
        "zip_ref.close()"
      ],
      "execution_count": 0,
      "outputs": []
    },
    {
      "cell_type": "code",
      "metadata": {
        "id": "_UwQ7Aj78DSs",
        "colab_type": "code",
        "colab": {}
      },
      "source": [
        "base_train_dir = '/tmp/rps'\n",
        "base_valid_dir = '/tmp/rps-test-set'"
      ],
      "execution_count": 0,
      "outputs": []
    },
    {
      "cell_type": "code",
      "metadata": {
        "id": "eadQRn8V8UyQ",
        "colab_type": "code",
        "colab": {}
      },
      "source": [
        "train_paper_dir = os.path.join(base_train_dir, 'paper')\n",
        "train_rock_dir = os.path.join(base_train_dir, 'rock')\n",
        "train_scissors_dir = os.path.join(base_train_dir, 'scissors')\n",
        "\n",
        "valid_paper_dir = os.path.join(base_valid_dir, 'paper')\n",
        "valid_rock_dir = os.path.join(base_valid_dir, 'rock')\n",
        "valid_scissors_dir = os.path.join(base_valid_dir, 'scissors')"
      ],
      "execution_count": 0,
      "outputs": []
    },
    {
      "cell_type": "code",
      "metadata": {
        "id": "gvMHYEW88-m2",
        "colab_type": "code",
        "colab": {
          "base_uri": "https://localhost:8080/",
          "height": 54
        },
        "outputId": "e8a90885-62df-4f0a-f487-5da31f7e1e29"
      },
      "source": [
        "print(os.listdir(train_paper_dir))"
      ],
      "execution_count": 5,
      "outputs": [
        {
          "output_type": "stream",
          "text": [
            "['paper05-067.png', 'paper03-062.png', 'paper05-091.png', 'paper01-094.png', 'paper03-111.png', 'paper05-105.png', 'paper01-002.png', 'paper01-040.png', 'paper03-045.png', 'paper02-045.png', 'paper06-055.png', 'paper04-057.png', 'paper05-055.png', 'paper06-070.png', 'paper06-100.png', 'paper01-103.png', 'paper02-042.png', 'paper06-093.png', 'paper02-098.png', 'paper03-000.png', 'paper03-094.png', 'paper07-084.png', 'paper07-096.png', 'paper04-032.png', 'paper06-009.png', 'paper05-087.png', 'paper04-038.png', 'paper06-010.png', 'paper07-021.png', 'paper02-024.png', 'paper04-006.png', 'paper01-073.png', 'paper05-041.png', 'paper01-076.png', 'paper03-087.png', 'paper02-028.png', 'paper05-020.png', 'paper06-112.png', 'paper01-018.png', 'paper07-056.png', 'paper01-051.png', 'paper03-044.png', 'paper03-099.png', 'paper04-003.png', 'paper06-078.png', 'paper06-034.png', 'paper02-105.png', 'paper01-000.png', 'paper05-111.png', 'paper07-008.png', 'paper05-097.png', 'paper06-087.png', 'paper05-008.png', 'paper01-037.png', 'paper04-040.png', 'paper03-116.png', 'paper03-093.png', 'paper04-034.png', 'paper04-035.png', 'paper02-013.png', 'paper04-064.png', 'paper01-016.png', 'paper03-023.png', 'paper05-062.png', 'paper05-060.png', 'paper04-078.png', 'paper04-097.png', 'paper07-037.png', 'paper01-069.png', 'paper02-066.png', 'paper06-088.png', 'paper05-110.png', 'paper01-017.png', 'paper02-031.png', 'paper03-097.png', 'paper07-001.png', 'paper07-011.png', 'paper07-051.png', 'paper07-088.png', 'paper04-026.png', 'paper05-058.png', 'paper02-036.png', 'paper03-048.png', 'paper05-063.png', 'paper06-108.png', 'paper02-003.png', 'paper03-022.png', 'paper03-115.png', 'paper03-019.png', 'paper02-000.png', 'paper05-015.png', 'paper06-050.png', 'paper03-104.png', 'paper05-042.png', 'paper05-108.png', 'paper05-053.png', 'paper02-068.png', 'paper02-047.png', 'paper02-015.png', 'paper07-059.png', 'paper07-067.png', 'paper04-104.png', 'paper05-003.png', 'paper04-008.png', 'paper03-098.png', 'paper01-071.png', 'paper01-093.png', 'paper05-034.png', 'paper01-035.png', 'paper04-045.png', 'paper04-100.png', 'paper03-029.png', 'paper07-049.png', 'paper02-119.png', 'paper03-060.png', 'paper07-042.png', 'paper06-107.png', 'paper07-003.png', 'paper07-107.png', 'paper01-054.png', 'paper03-113.png', 'paper03-102.png', 'paper07-020.png', 'paper03-068.png', 'paper06-073.png', 'paper04-076.png', 'paper01-104.png', 'paper06-075.png', 'paper07-106.png', 'paper05-085.png', 'paper01-060.png', 'paper04-069.png', 'paper06-063.png', 'paper01-061.png', 'paper01-058.png', 'paper04-021.png', 'paper02-104.png', 'paper01-006.png', 'paper02-039.png', 'paper07-040.png', 'paper01-022.png', 'paper01-066.png', 'paper05-083.png', 'paper02-007.png', 'paper03-025.png', 'paper07-116.png', 'paper04-012.png', 'paper06-103.png', 'paper03-004.png', 'paper07-092.png', 'paper01-023.png', 'paper06-068.png', 'paper06-033.png', 'paper07-023.png', 'paper06-072.png', 'paper01-083.png', 'paper03-085.png', 'paper04-072.png', 'paper03-026.png', 'paper06-095.png', 'paper07-083.png', 'paper04-112.png', 'paper04-004.png', 'paper01-004.png', 'paper03-106.png', 'paper03-042.png', 'paper07-066.png', 'paper06-025.png', 'paper01-010.png', 'paper03-063.png', 'paper03-117.png', 'paper06-119.png', 'paper01-033.png', 'paper07-075.png', 'paper06-106.png', 'paper05-082.png', 'paper02-060.png', 'paper01-007.png', 'paper07-013.png', 'paper01-086.png', 'paper02-030.png', 'paper02-087.png', 'paper01-119.png', 'paper06-102.png', 'paper04-041.png', 'paper02-026.png', 'paper03-039.png', 'paper05-002.png', 'paper04-088.png', 'paper06-046.png', 'paper07-113.png', 'paper05-061.png', 'paper05-057.png', 'paper05-039.png', 'paper07-094.png', 'paper05-103.png', 'paper02-097.png', 'paper02-025.png', 'paper04-092.png', 'paper02-056.png', 'paper07-048.png', 'paper01-005.png', 'paper06-030.png', 'paper02-043.png', 'paper04-017.png', 'paper02-084.png', 'paper03-002.png', 'paper03-105.png', 'paper07-033.png', 'paper02-101.png', 'paper05-050.png', 'paper02-114.png', 'paper02-081.png', 'paper07-090.png', 'paper01-049.png', 'paper05-064.png', 'paper03-076.png', 'paper03-066.png', 'paper02-053.png', 'paper02-063.png', 'paper02-008.png', 'paper05-004.png', 'paper06-036.png', 'paper01-105.png', 'paper01-011.png', 'paper03-107.png', 'paper02-102.png', 'paper05-025.png', 'paper04-096.png', 'paper07-076.png', 'paper04-061.png', 'paper04-080.png', 'paper06-027.png', 'paper01-013.png', 'paper04-054.png', 'paper02-074.png', 'paper06-110.png', 'paper07-115.png', 'paper04-049.png', 'paper04-058.png', 'paper05-069.png', 'paper06-040.png', 'paper02-018.png', 'paper07-031.png', 'paper04-062.png', 'paper01-064.png', 'paper03-036.png', 'paper06-061.png', 'paper03-057.png', 'paper03-038.png', 'paper05-010.png', 'paper01-045.png', 'paper06-053.png', 'paper01-050.png', 'paper07-019.png', 'paper03-011.png', 'paper06-024.png', 'paper02-038.png', 'paper04-079.png', 'paper05-007.png', 'paper03-017.png', 'paper02-080.png', 'paper01-116.png', 'paper04-106.png', 'paper04-055.png', 'paper03-051.png', 'paper01-008.png', 'paper01-096.png', 'paper06-039.png', 'paper01-062.png', 'paper07-080.png', 'paper07-110.png', 'paper05-077.png', 'paper05-045.png', 'paper02-017.png', 'paper01-115.png', 'paper01-036.png', 'paper06-083.png', 'paper05-066.png', 'paper05-071.png', 'paper06-012.png', 'paper05-011.png', 'paper07-082.png', 'paper05-078.png', 'paper06-004.png', 'paper06-064.png', 'paper05-044.png', 'paper07-072.png', 'paper01-044.png', 'paper07-035.png', 'paper03-070.png', 'paper07-095.png', 'paper07-097.png', 'paper02-049.png', 'paper07-043.png', 'paper05-009.png', 'paper02-006.png', 'paper04-039.png', 'paper07-045.png', 'paper05-096.png', 'paper04-113.png', 'paper03-091.png', 'paper07-028.png', 'paper06-094.png', 'paper04-044.png', 'paper07-055.png', 'paper05-049.png', 'paper04-056.png', 'paper05-113.png', 'paper05-038.png', 'paper03-114.png', 'paper01-074.png', 'paper04-095.png', 'paper06-013.png', 'paper01-015.png', 'paper02-088.png', 'paper07-114.png', 'paper03-047.png', 'paper04-019.png', 'paper07-032.png', 'paper03-021.png', 'paper06-029.png', 'paper07-006.png', 'paper03-007.png', 'paper01-046.png', 'paper04-087.png', 'paper03-009.png', 'paper06-059.png', 'paper02-067.png', 'paper04-016.png', 'paper04-022.png', 'paper01-098.png', 'paper03-030.png', 'paper06-090.png', 'paper01-047.png', 'paper01-031.png', 'paper02-116.png', 'paper07-117.png', 'paper02-011.png', 'paper01-001.png', 'paper07-000.png', 'paper03-001.png', 'paper07-041.png', 'paper04-063.png', 'paper07-016.png', 'paper06-084.png', 'paper01-113.png', 'paper06-074.png', 'paper02-071.png', 'paper06-118.png', 'paper03-110.png', 'paper07-101.png', 'paper03-108.png', 'paper03-046.png', 'paper04-065.png', 'paper06-031.png', 'paper01-053.png', 'paper05-037.png', 'paper05-033.png', 'paper05-001.png', 'paper04-052.png', 'paper05-073.png', 'paper05-056.png', 'paper02-005.png', 'paper06-062.png', 'paper02-076.png', 'paper02-112.png', 'paper06-042.png', 'paper07-030.png', 'paper07-036.png', 'paper07-087.png', 'paper03-018.png', 'paper01-079.png', 'paper02-021.png', 'paper01-092.png', 'paper02-065.png', 'paper05-047.png', 'paper05-079.png', 'paper02-092.png', 'paper06-117.png', 'paper07-063.png', 'paper02-089.png', 'paper05-000.png', 'paper04-042.png', 'paper06-058.png', 'paper05-030.png', 'paper02-058.png', 'paper07-065.png', 'paper01-087.png', 'paper03-020.png', 'paper01-055.png', 'paper06-098.png', 'paper02-095.png', 'paper03-056.png', 'paper01-117.png', 'paper02-070.png', 'paper03-078.png', 'paper02-111.png', 'paper07-039.png', 'paper03-058.png', 'paper02-113.png', 'paper01-041.png', 'paper04-118.png', 'paper04-111.png', 'paper05-099.png', 'paper03-006.png', 'paper03-032.png', 'paper03-050.png', 'paper03-064.png', 'paper02-064.png', 'paper05-040.png', 'paper03-071.png', 'paper02-110.png', 'paper06-086.png', 'paper01-101.png', 'paper01-059.png', 'paper01-032.png', 'paper01-067.png', 'paper03-041.png', 'paper03-067.png', 'paper02-083.png', 'paper05-029.png', 'paper06-115.png', 'paper03-077.png', 'paper02-014.png', 'paper06-067.png', 'paper03-119.png', 'paper03-052.png', 'paper03-101.png', 'paper03-053.png', 'paper03-065.png', 'paper03-035.png', 'paper05-100.png', 'paper07-085.png', 'paper01-028.png', 'paper04-114.png', 'paper06-066.png', 'paper05-117.png', 'paper03-083.png', 'paper07-027.png', 'paper02-096.png', 'paper06-089.png', 'paper03-074.png', 'paper01-075.png', 'paper02-029.png', 'paper02-009.png', 'paper05-116.png', 'paper06-079.png', 'paper06-060.png', 'paper03-118.png', 'paper07-009.png', 'paper01-077.png', 'paper01-072.png', 'paper04-005.png', 'paper07-099.png', 'paper01-102.png', 'paper01-100.png', 'paper02-085.png', 'paper05-072.png', 'paper07-077.png', 'paper03-086.png', 'paper03-027.png', 'paper04-031.png', 'paper05-022.png', 'paper01-085.png', 'paper03-031.png', 'paper04-105.png', 'paper02-099.png', 'paper07-038.png', 'paper02-001.png', 'paper01-110.png', 'paper02-091.png', 'paper07-071.png', 'paper05-106.png', 'paper04-025.png', 'paper03-015.png', 'paper02-046.png', 'paper03-080.png', 'paper06-097.png', 'paper04-068.png', 'paper03-055.png', 'paper06-069.png', 'paper04-000.png', 'paper03-092.png', 'paper03-016.png', 'paper07-050.png', 'paper07-118.png', 'paper06-114.png', 'paper01-009.png', 'paper05-023.png', 'paper05-019.png', 'paper04-060.png', 'paper03-005.png', 'paper02-012.png', 'paper03-081.png', 'paper06-000.png', 'paper07-073.png', 'paper04-037.png', 'paper01-109.png', 'paper07-060.png', 'paper01-019.png', 'paper05-065.png', 'paper03-088.png', 'paper01-081.png', 'paper07-012.png', 'paper06-037.png', 'paper02-048.png', 'paper02-079.png', 'paper02-020.png', 'paper07-053.png', 'paper01-056.png', 'paper01-065.png', 'paper02-002.png', 'paper04-018.png', 'paper01-026.png', 'paper07-024.png', 'paper07-105.png', 'paper01-034.png', 'paper06-018.png', 'paper02-034.png', 'paper04-115.png', 'paper03-043.png', 'paper02-050.png', 'paper07-081.png', 'paper06-016.png', 'paper07-026.png', 'paper01-024.png', 'paper05-098.png', 'paper06-022.png', 'paper01-108.png', 'paper05-068.png', 'paper05-051.png', 'paper06-015.png', 'paper05-094.png', 'paper01-088.png', 'paper03-059.png', 'paper05-031.png', 'paper06-101.png', 'paper03-008.png', 'paper03-084.png', 'paper02-061.png', 'paper04-051.png', 'paper06-071.png', 'paper04-023.png', 'paper06-011.png', 'paper01-027.png', 'paper07-093.png', 'paper06-047.png', 'paper03-109.png', 'paper05-112.png', 'paper07-108.png', 'paper03-003.png', 'paper02-016.png', 'paper01-014.png', 'paper04-029.png', 'paper03-079.png', 'paper07-015.png', 'paper04-075.png', 'paper05-104.png', 'paper07-007.png', 'paper02-027.png', 'paper05-102.png', 'paper06-091.png', 'paper07-091.png', 'paper04-014.png', 'paper02-109.png', 'paper04-101.png', 'paper05-018.png', 'paper07-078.png', 'paper05-089.png', 'paper02-093.png', 'paper06-065.png', 'paper01-038.png', 'paper04-046.png', 'paper05-043.png', 'paper02-107.png', 'paper01-012.png', 'paper04-109.png', 'paper02-023.png', 'paper02-100.png', 'paper07-057.png', 'paper06-003.png', 'paper05-119.png', 'paper02-033.png', 'paper01-099.png', 'paper06-044.png', 'paper07-047.png', 'paper02-062.png', 'paper01-042.png', 'paper03-010.png', 'paper04-015.png', 'paper01-097.png', 'paper06-056.png', 'paper02-106.png', 'paper01-107.png', 'paper02-054.png', 'paper01-114.png', 'paper05-048.png', 'paper03-072.png', 'paper04-030.png', 'paper04-009.png', 'paper06-002.png', 'paper03-033.png', 'paper06-032.png', 'paper05-017.png', 'paper04-082.png', 'paper06-052.png', 'paper03-082.png', 'paper05-115.png', 'paper02-090.png', 'paper04-011.png', 'paper06-081.png', 'paper07-046.png', 'paper02-052.png', 'paper04-036.png', 'paper05-036.png', 'paper04-047.png', 'paper03-069.png', 'paper05-081.png', 'paper06-023.png', 'paper07-070.png', 'paper02-118.png', 'paper05-059.png', 'paper07-034.png', 'paper03-028.png', 'paper02-051.png', 'paper07-103.png', 'paper02-072.png', 'paper07-089.png', 'paper04-074.png', 'paper06-099.png', 'paper07-112.png', 'paper02-059.png', 'paper03-103.png', 'paper04-067.png', 'paper05-107.png', 'paper02-010.png', 'paper06-111.png', 'paper04-119.png', 'paper04-070.png', 'paper06-048.png', 'paper05-005.png', 'paper07-029.png', 'paper03-095.png', 'paper02-094.png', 'paper07-111.png', 'paper07-054.png', 'paper03-040.png', 'paper01-070.png', 'paper03-090.png', 'paper03-100.png', 'paper04-013.png', 'paper07-014.png', 'paper01-068.png', 'paper07-069.png', 'paper06-006.png', 'paper02-077.png', 'paper05-092.png', 'paper04-089.png', 'paper05-088.png', 'paper03-024.png', 'paper06-105.png', 'paper07-022.png', 'paper07-064.png', 'paper06-005.png', 'paper04-048.png', 'paper02-108.png', 'paper02-055.png', 'paper01-080.png', 'paper01-091.png', 'paper02-041.png', 'paper06-077.png', 'paper06-035.png', 'paper06-028.png', 'paper06-085.png', 'paper04-116.png', 'paper06-076.png', 'paper05-012.png', 'paper03-096.png', 'paper06-041.png', 'paper07-098.png', 'paper07-119.png', 'paper06-014.png', 'paper03-054.png', 'paper02-082.png', 'paper07-068.png', 'paper04-084.png', 'paper01-039.png', 'paper04-001.png', 'paper07-017.png', 'paper05-006.png', 'paper04-027.png', 'paper06-001.png', 'paper04-010.png', 'paper01-082.png', 'paper04-085.png', 'paper02-040.png', 'paper02-037.png', 'paper07-002.png', 'paper07-102.png', 'paper04-099.png', 'paper05-114.png', 'paper05-028.png', 'paper03-061.png', 'paper05-086.png', 'paper07-109.png', 'paper07-086.png', 'paper05-080.png', 'paper04-020.png', 'paper07-058.png', 'paper01-020.png', 'paper05-093.png', 'paper02-073.png', 'paper04-108.png', 'paper02-086.png', 'paper03-049.png', 'paper04-081.png', 'paper03-112.png', 'paper07-104.png', 'paper06-019.png', 'paper01-078.png', 'paper05-032.png', 'paper01-003.png', 'paper03-014.png', 'paper04-033.png', 'paper04-024.png', 'paper02-019.png', 'paper06-109.png', 'paper05-035.png', 'paper04-117.png', 'paper03-037.png', 'paper04-002.png', 'paper05-090.png', 'paper05-013.png', 'paper06-045.png', 'paper05-084.png', 'paper01-089.png', 'paper04-107.png', 'paper07-100.png', 'paper06-049.png', 'paper06-021.png', 'paper05-118.png', 'paper05-075.png', 'paper01-084.png', 'paper05-024.png', 'paper04-053.png', 'paper04-102.png', 'paper05-046.png', 'paper01-090.png', 'paper06-113.png', 'paper05-021.png', 'paper07-074.png', 'paper02-075.png', 'paper02-032.png', 'paper04-110.png', 'paper04-050.png', 'paper05-026.png', 'paper07-079.png', 'paper06-038.png', 'paper02-078.png', 'paper07-004.png', 'paper05-014.png', 'paper01-063.png', 'paper02-069.png', 'paper01-106.png', 'paper02-115.png', 'paper06-007.png', 'paper04-066.png', 'paper06-008.png', 'paper06-017.png', 'paper06-020.png', 'paper01-030.png', 'paper04-077.png', 'paper04-007.png', 'paper01-111.png', 'paper07-005.png', 'paper01-118.png', 'paper04-090.png', 'paper01-052.png', 'paper04-043.png', 'paper05-052.png', 'paper01-112.png', 'paper02-044.png', 'paper06-043.png', 'paper07-052.png', 'paper06-026.png', 'paper01-025.png', 'paper04-086.png', 'paper02-103.png', 'paper04-071.png', 'paper06-057.png', 'paper04-059.png', 'paper03-089.png', 'paper07-025.png', 'paper05-095.png', 'paper06-092.png', 'paper04-028.png', 'paper04-094.png', 'paper07-061.png', 'paper06-116.png', 'paper07-018.png', 'paper03-013.png', 'paper01-029.png', 'paper04-083.png', 'paper03-034.png', 'paper02-117.png', 'paper07-010.png', 'paper05-070.png', 'paper04-073.png', 'paper05-074.png', 'paper02-035.png', 'paper01-043.png', 'paper01-095.png', 'paper05-054.png', 'paper05-101.png', 'paper04-103.png', 'paper05-027.png', 'paper05-109.png', 'paper06-096.png', 'paper06-082.png', 'paper06-054.png', 'paper01-057.png', 'paper01-021.png', 'paper04-098.png', 'paper02-022.png', 'paper06-051.png', 'paper01-048.png', 'paper03-073.png', 'paper04-091.png', 'paper03-012.png', 'paper04-093.png', 'paper02-004.png', 'paper06-080.png', 'paper06-104.png', 'paper07-044.png', 'paper05-076.png', 'paper05-016.png', 'paper07-062.png', 'paper03-075.png', 'paper02-057.png']\n"
          ],
          "name": "stdout"
        }
      ]
    },
    {
      "cell_type": "code",
      "metadata": {
        "id": "WwpDR8sI9GtG",
        "colab_type": "code",
        "colab": {
          "base_uri": "https://localhost:8080/",
          "height": 34
        },
        "outputId": "1cbab6f8-fa64-47b1-84ca-bc1237396053"
      },
      "source": [
        "len(os.listdir(train_paper_dir))"
      ],
      "execution_count": 6,
      "outputs": [
        {
          "output_type": "execute_result",
          "data": {
            "text/plain": [
              "840"
            ]
          },
          "metadata": {
            "tags": []
          },
          "execution_count": 6
        }
      ]
    },
    {
      "cell_type": "code",
      "metadata": {
        "id": "hwQHukch9LSw",
        "colab_type": "code",
        "colab": {
          "base_uri": "https://localhost:8080/",
          "height": 34
        },
        "outputId": "1d7d6618-e843-46f4-ca6c-64838fed8585"
      },
      "source": [
        "len(os.listdir(valid_paper_dir))"
      ],
      "execution_count": 7,
      "outputs": [
        {
          "output_type": "execute_result",
          "data": {
            "text/plain": [
              "124"
            ]
          },
          "metadata": {
            "tags": []
          },
          "execution_count": 7
        }
      ]
    },
    {
      "cell_type": "code",
      "metadata": {
        "id": "gmjUzjef9PKE",
        "colab_type": "code",
        "colab": {
          "base_uri": "https://localhost:8080/",
          "height": 51
        },
        "outputId": "1317cd55-a6a2-498b-83d1-0fa4b184ebf3"
      },
      "source": [
        "import tensorflow as tf\n",
        "import keras_preprocessing\n",
        "from keras_preprocessing import image\n",
        "from keras_preprocessing.image import ImageDataGenerator\n",
        "\n",
        "train_datagen = ImageDataGenerator(rescale = 1.0/255,\n",
        "                                  rotation_range = 40,\n",
        "                                  width_shift_range = 0.2,\n",
        "                                  height_shift_range = 0.2,\n",
        "                                  shear_range = 0.2,\n",
        "                                  zoom_range=0.2,\n",
        "                                  horizontal_flip = True,\n",
        "                                  fill_mode='nearest')\n",
        "valid_datagen = ImageDataGenerator(rescale=1.0/255)\n",
        "\n",
        "train_generator = train_datagen.flow_from_directory(base_train_dir,\n",
        "                                                       batch_size=20,\n",
        "                                                       class_mode='categorical',\n",
        "                                                       target_size=(150,150))\n",
        "validation_generator = valid_datagen.flow_from_directory(base_valid_dir,\n",
        "                                                        batch_size=20,\n",
        "                                                        class_mode = 'categorical',\n",
        "                                                        target_size=(150,150))"
      ],
      "execution_count": 10,
      "outputs": [
        {
          "output_type": "stream",
          "text": [
            "Found 2520 images belonging to 3 classes.\n",
            "Found 372 images belonging to 3 classes.\n"
          ],
          "name": "stdout"
        }
      ]
    },
    {
      "cell_type": "code",
      "metadata": {
        "id": "kyfr7nYDACGt",
        "colab_type": "code",
        "colab": {}
      },
      "source": [
        "model = tf.keras.models.Sequential([\n",
        "    tf.keras.layers.Conv2D(64, (3,3), activation = 'relu', input_shape=(150,150,3)),\n",
        "    tf.keras.layers.MaxPooling2D(2,2),\n",
        "    tf.keras.layers.Conv2D(64, (3,3), activation='relu'),\n",
        "    tf.keras.layers.MaxPooling2D(2,2),\n",
        "    tf.keras.layers.Conv2D(128, (3,3), activation='relu'),\n",
        "    tf.keras.layers.MaxPooling2D(2,2),\n",
        "    tf.keras.layers.Conv2D(128, (3,3), activation='relu'),\n",
        "    tf.keras.layers.MaxPooling2D(2,2),\n",
        "    tf.keras.layers.Flatten(),\n",
        "    tf.keras.layers.Dropout(0.5),\n",
        "    tf.keras.layers.Dense(512, activation='relu'),\n",
        "    tf.keras.layers.Dense(3, activation='softmax')\n",
        "])"
      ],
      "execution_count": 0,
      "outputs": []
    },
    {
      "cell_type": "code",
      "metadata": {
        "id": "vZfkYdC8BrFs",
        "colab_type": "code",
        "colab": {
          "base_uri": "https://localhost:8080/",
          "height": 561
        },
        "outputId": "6d67bc13-4f81-416a-eaab-ddf1f2c7d471"
      },
      "source": [
        "model.summary()"
      ],
      "execution_count": 13,
      "outputs": [
        {
          "output_type": "stream",
          "text": [
            "Model: \"sequential\"\n",
            "_________________________________________________________________\n",
            "Layer (type)                 Output Shape              Param #   \n",
            "=================================================================\n",
            "conv2d_2 (Conv2D)            (None, 148, 148, 64)      1792      \n",
            "_________________________________________________________________\n",
            "max_pooling2d_1 (MaxPooling2 (None, 74, 74, 64)        0         \n",
            "_________________________________________________________________\n",
            "conv2d_3 (Conv2D)            (None, 72, 72, 64)        36928     \n",
            "_________________________________________________________________\n",
            "max_pooling2d_2 (MaxPooling2 (None, 36, 36, 64)        0         \n",
            "_________________________________________________________________\n",
            "conv2d_4 (Conv2D)            (None, 34, 34, 128)       73856     \n",
            "_________________________________________________________________\n",
            "max_pooling2d_3 (MaxPooling2 (None, 17, 17, 128)       0         \n",
            "_________________________________________________________________\n",
            "conv2d_5 (Conv2D)            (None, 15, 15, 128)       147584    \n",
            "_________________________________________________________________\n",
            "max_pooling2d_4 (MaxPooling2 (None, 7, 7, 128)         0         \n",
            "_________________________________________________________________\n",
            "flatten (Flatten)            (None, 6272)              0         \n",
            "_________________________________________________________________\n",
            "dropout (Dropout)            (None, 6272)              0         \n",
            "_________________________________________________________________\n",
            "dense (Dense)                (None, 512)               3211776   \n",
            "_________________________________________________________________\n",
            "dense_1 (Dense)              (None, 3)                 1539      \n",
            "=================================================================\n",
            "Total params: 3,473,475\n",
            "Trainable params: 3,473,475\n",
            "Non-trainable params: 0\n",
            "_________________________________________________________________\n"
          ],
          "name": "stdout"
        }
      ]
    },
    {
      "cell_type": "code",
      "metadata": {
        "id": "byPZzpPHBxqb",
        "colab_type": "code",
        "colab": {}
      },
      "source": [
        "model.compile(optimizer = 'adam',\n",
        "             loss = 'categorical_crossentropy',\n",
        "             metrics=['acc'])"
      ],
      "execution_count": 0,
      "outputs": []
    },
    {
      "cell_type": "code",
      "metadata": {
        "id": "Q1mS5so9CRAC",
        "colab_type": "code",
        "colab": {
          "base_uri": "https://localhost:8080/",
          "height": 867
        },
        "outputId": "35b5ed36-13a8-4241-b488-06b73b93cbfb"
      },
      "source": [
        "history = model.fit_generator(train_generator,\n",
        "                             validation_data = validation_generator,\n",
        "                             epochs = 25,\n",
        "                             verbose = 2)"
      ],
      "execution_count": 15,
      "outputs": [
        {
          "output_type": "stream",
          "text": [
            "Epoch 1/25\n",
            "126/126 - 24s - loss: 1.0913 - acc: 0.3698 - val_loss: 0.9030 - val_acc: 0.5672\n",
            "Epoch 2/25\n",
            "126/126 - 19s - loss: 0.7974 - acc: 0.6202 - val_loss: 0.4359 - val_acc: 0.7823\n",
            "Epoch 3/25\n",
            "126/126 - 19s - loss: 0.4390 - acc: 0.8202 - val_loss: 0.1056 - val_acc: 0.9597\n",
            "Epoch 4/25\n",
            "126/126 - 19s - loss: 0.2986 - acc: 0.8885 - val_loss: 0.2420 - val_acc: 0.9140\n",
            "Epoch 5/25\n",
            "126/126 - 20s - loss: 0.1799 - acc: 0.9341 - val_loss: 0.0779 - val_acc: 0.9785\n",
            "Epoch 6/25\n",
            "126/126 - 19s - loss: 0.1869 - acc: 0.9341 - val_loss: 0.1234 - val_acc: 0.9435\n",
            "Epoch 7/25\n",
            "126/126 - 19s - loss: 0.1501 - acc: 0.9437 - val_loss: 0.1396 - val_acc: 0.9570\n",
            "Epoch 8/25\n",
            "126/126 - 19s - loss: 0.1068 - acc: 0.9643 - val_loss: 0.0556 - val_acc: 0.9731\n",
            "Epoch 9/25\n",
            "126/126 - 19s - loss: 0.1318 - acc: 0.9520 - val_loss: 0.0364 - val_acc: 0.9839\n",
            "Epoch 10/25\n",
            "126/126 - 20s - loss: 0.1069 - acc: 0.9627 - val_loss: 0.0434 - val_acc: 0.9839\n",
            "Epoch 11/25\n",
            "126/126 - 19s - loss: 0.0899 - acc: 0.9683 - val_loss: 0.2499 - val_acc: 0.8925\n",
            "Epoch 12/25\n",
            "126/126 - 19s - loss: 0.0993 - acc: 0.9675 - val_loss: 0.0684 - val_acc: 0.9785\n",
            "Epoch 13/25\n",
            "126/126 - 20s - loss: 0.0875 - acc: 0.9702 - val_loss: 0.0631 - val_acc: 0.9785\n",
            "Epoch 14/25\n",
            "126/126 - 19s - loss: 0.0906 - acc: 0.9671 - val_loss: 0.0505 - val_acc: 0.9785\n",
            "Epoch 15/25\n",
            "126/126 - 19s - loss: 0.0710 - acc: 0.9738 - val_loss: 0.1152 - val_acc: 0.9516\n",
            "Epoch 16/25\n",
            "126/126 - 19s - loss: 0.0875 - acc: 0.9694 - val_loss: 0.1194 - val_acc: 0.9677\n",
            "Epoch 17/25\n",
            "126/126 - 19s - loss: 0.0824 - acc: 0.9687 - val_loss: 0.0338 - val_acc: 0.9946\n",
            "Epoch 18/25\n",
            "126/126 - 20s - loss: 0.0739 - acc: 0.9730 - val_loss: 0.0963 - val_acc: 0.9731\n",
            "Epoch 19/25\n",
            "126/126 - 19s - loss: 0.0898 - acc: 0.9694 - val_loss: 0.0541 - val_acc: 0.9785\n",
            "Epoch 20/25\n",
            "126/126 - 19s - loss: 0.0633 - acc: 0.9786 - val_loss: 0.0306 - val_acc: 1.0000\n",
            "Epoch 21/25\n",
            "126/126 - 19s - loss: 0.0593 - acc: 0.9817 - val_loss: 0.0248 - val_acc: 0.9892\n",
            "Epoch 22/25\n",
            "126/126 - 19s - loss: 0.0559 - acc: 0.9817 - val_loss: 0.0155 - val_acc: 0.9892\n",
            "Epoch 23/25\n",
            "126/126 - 19s - loss: 0.0750 - acc: 0.9738 - val_loss: 0.0145 - val_acc: 1.0000\n",
            "Epoch 24/25\n",
            "126/126 - 19s - loss: 0.0647 - acc: 0.9794 - val_loss: 0.1120 - val_acc: 0.9543\n",
            "Epoch 25/25\n",
            "126/126 - 19s - loss: 0.0495 - acc: 0.9849 - val_loss: 0.0938 - val_acc: 0.9677\n"
          ],
          "name": "stdout"
        }
      ]
    },
    {
      "cell_type": "code",
      "metadata": {
        "id": "tYL-3ExZCh_T",
        "colab_type": "code",
        "colab": {
          "base_uri": "https://localhost:8080/",
          "height": 298
        },
        "outputId": "c9b78886-2a08-49e6-8fb3-71565abca555"
      },
      "source": [
        "import matplotlib.pyplot as plt\n",
        "acc = history.history['acc']\n",
        "val_acc = history.history['val_acc']\n",
        "loss = history.history['loss']\n",
        "val_loss = history.history['val_loss']\n",
        "\n",
        "epochs = range(len(acc))\n",
        "\n",
        "plt.plot(epochs, acc, 'r', label='Training accuracy')\n",
        "plt.plot(epochs, val_acc, 'b', label='Validation accuracy')\n",
        "plt.title('Training and validation accuracy')\n",
        "plt.legend(loc=0)\n",
        "plt.figure()\n",
        "\n",
        "\n",
        "plt.show()"
      ],
      "execution_count": 16,
      "outputs": [
        {
          "output_type": "display_data",
          "data": {
            "image/png": "[encoded data removed]",
            "text/plain": [
              "<Figure size 432x288 with 1 Axes>"
            ]
          },
          "metadata": {
            "tags": []
          }
        },
        {
          "output_type": "display_data",
          "data": {
            "text/plain": [
              "<Figure size 432x288 with 0 Axes>"
            ]
          },
          "metadata": {
            "tags": []
          }
        }
      ]
    },
    {
      "cell_type": "code",
      "metadata": {
        "id": "wWrHr5jMElXq",
        "colab_type": "code",
        "colab": {}
      },
      "source": [
        ""
      ],
      "execution_count": 0,
      "outputs": []
    }
  ]
}